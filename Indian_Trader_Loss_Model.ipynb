{
 "cells": [
  {
   "cell_type": "markdown",
   "id": "36e12d3b",
   "metadata": {},
   "source": [
    "# Beginner-Level Regression Model\n",
    "\n",
    "Using the Indian Trader Loss Dataset"
   ]
  },
  {
   "cell_type": "code",
   "execution_count": null,
   "id": "e7bfc6c6",
   "metadata": {},
   "outputs": [],
   "source": [
    "\n",
    "import pandas as pd\n",
    "from sklearn.model_selection import train_test_split\n",
    "from sklearn.preprocessing import OneHotEncoder, OrdinalEncoder\n",
    "from sklearn.compose import ColumnTransformer\n",
    "from sklearn.pipeline import Pipeline\n",
    "from sklearn.ensemble import GradientBoostingRegressor\n",
    "from sklearn.metrics import mean_absolute_error, r2_score\n"
   ]
  },
  {
   "cell_type": "code",
   "execution_count": null,
   "id": "45b1bc4c",
   "metadata": {},
   "outputs": [],
   "source": [
    "\n",
    "df = pd.read_csv('/kaggle/input/indian-trader-loss-dataset/Indian_Trader_Loss_Dataset.csv')\n",
    "df = df.drop(\"Trader_ID\", axis=1)\n"
   ]
  },
  {
   "cell_type": "code",
   "execution_count": null,
   "id": "24d3ea24",
   "metadata": {},
   "outputs": [],
   "source": [
    "\n",
    "X = df.drop(\"Loss_Percentage\", axis=1)\n",
    "y = df[\"Loss_Percentage\"]\n"
   ]
  },
  {
   "cell_type": "code",
   "execution_count": null,
   "id": "304f7a9a",
   "metadata": {},
   "outputs": [],
   "source": [
    "\n",
    "ordinal_features = {\n",
    "    \"Age_Group\": [\"<20\", \"20-30\", \"31-40\", \"41-50\", \"51+\"],\n",
    "    \"Holding_Period\": [\"<1 Month\", \"1-3 Months\", \"3-6 Months\", \"6-12 Months\", \">1 Year\"]\n",
    "}\n",
    "\n",
    "ordinal_cols = list(ordinal_features.keys())\n",
    "ordinal_encoder = OrdinalEncoder(categories=[ordinal_features[col] for col in ordinal_cols])\n",
    "X[ordinal_cols] = ordinal_encoder.fit_transform(X[ordinal_cols])\n"
   ]
  },
  {
   "cell_type": "code",
   "execution_count": null,
   "id": "8aacea32",
   "metadata": {},
   "outputs": [],
   "source": [
    "\n",
    "categorical_cols = [col for col in X.select_dtypes(include=\"object\").columns if col not in ordinal_cols]\n",
    "\n",
    "preprocessor = ColumnTransformer(\n",
    "    transformers=[(\"cat\", OneHotEncoder(handle_unknown=\"ignore\"), categorical_cols)],\n",
    "    remainder=\"passthrough\"\n",
    ")\n",
    "\n",
    "pipeline = Pipeline(steps=[\n",
    "    (\"preprocessor\", preprocessor),\n",
    "    (\"regressor\", GradientBoostingRegressor(random_state=42))\n",
    "])\n"
   ]
  },
  {
   "cell_type": "code",
   "execution_count": null,
   "id": "b358d6ee",
   "metadata": {},
   "outputs": [],
   "source": [
    "\n",
    "X_train, X_test, y_train, y_test = train_test_split(X, y, test_size=0.2, random_state=42)\n",
    "pipeline.fit(X_train, y_train)\n",
    "\n",
    "y_pred = pipeline.predict(X_test)\n",
    "print(\"MAE:\", mean_absolute_error(y_test, y_pred))\n",
    "print(\"R²:\", r2_score(y_test, y_pred))\n"
   ]
  }
 ],
 "metadata": {},
 "nbformat": 4,
 "nbformat_minor": 5
}
